{
 "cells": [
  {
   "cell_type": "markdown",
   "id": "6dd00a81-8f0a-4f5d-8a97-1237cdeb6312",
   "metadata": {},
   "source": [
    "TECHNIKI PROGRAMOWANIA - projekt 3"
   ]
  },
  {
   "cell_type": "markdown",
   "id": "f013fb66-c201-4280-892c-2c11fd63c8cd",
   "metadata": {},
   "source": [
    "Jakub Staniszewski 203647\n"
   ]
  },
  {
   "cell_type": "markdown",
   "id": "f915fcd9-a374-444a-9679-3c6fe07e615e",
   "metadata": {},
   "source": [
    "Jakub Szymański 203303\n"
   ]
  },
  {
   "cell_type": "markdown",
   "id": "3ca9e4de-d148-4d21-aaf9-95d94b57f6ba",
   "metadata": {},
   "source": [
    "Wykorzystane biblioteki:\n"
   ]
  },
  {
   "cell_type": "markdown",
   "id": "3db047b2-2943-484a-bc74-4c79ec6d9213",
   "metadata": {},
   "source": [
    "matplotplusplus"
   ]
  },
  {
   "cell_type": "markdown",
   "id": "8114ff77-5244-45bf-97c8-fe5e2347f056",
   "metadata": {},
   "source": [
    "soundfile (python)"
   ]
  },
  {
   "cell_type": "markdown",
   "id": "4c029c0f-35ed-4c5e-9d45-15a1d38aaf1f",
   "metadata": {},
   "source": [
    "WIZUALIZACJA WYKRESÓW "
   ]
  },
  {
   "cell_type": "code",
   "execution_count": 2,
   "id": "b8e87186-beb4-4480-a1f7-aea885907ddd",
   "metadata": {},
   "outputs": [],
   "source": [
    "import numpy as np\n",
    "import signal_processing as sp"
   ]
  },
  {
   "cell_type": "code",
   "execution_count": null,
   "id": "a0275466-fd6f-4735-aa98-c9301e2fb6f5",
   "metadata": {},
   "outputs": [],
   "source": [
    "def test_signal_generation():\n",
    "    print(\"Generowanie i wizualizacja sygnałów...\")\n",
    "    types = [\"SINE\", \"COSINE\", \"SQUARE\", \"SAWTOOTH\"]\n",
    "    for t in types:\n",
    "        signal_type = getattr(sp.SignalType, t)\n",
    "        signal = sp.generate_signal(signal_type, frequency=5, sample_rate=1000, duration=1)\n",
    "        sp.plot_signal(signal, title=f\"{t} Wave\")"
   ]
  },
  {
   "attachments": {},
   "cell_type": "markdown",
   "id": "17c00b60-d7ba-47d4-a716-b29c61b6feee",
   "metadata": {},
   "source": []
  },
  {
   "cell_type": "code",
   "execution_count": null,
   "id": "bfed1fd3-3552-4c32-b30d-5df02f0f902a",
   "metadata": {},
   "outputs": [],
   "source": []
  }
 ],
 "metadata": {
  "kernelspec": {
   "display_name": "Python 3 (ipykernel)",
   "language": "python",
   "name": "python3"
  },
  "language_info": {
   "codemirror_mode": {
    "name": "ipython",
    "version": 3
   },
   "file_extension": ".py",
   "mimetype": "text/x-python",
   "name": "python",
   "nbconvert_exporter": "python",
   "pygments_lexer": "ipython3",
   "version": "3.13.2"
  }
 },
 "nbformat": 4,
 "nbformat_minor": 5
}
